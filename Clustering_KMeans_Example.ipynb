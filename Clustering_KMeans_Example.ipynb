{
 "cells": [
  {
   "cell_type": "code",
   "execution_count": 31,
   "metadata": {},
   "outputs": [],
   "source": [
    "import pandas as pd\n",
    "import numpy as np \n",
    "import matplotlib.pyplot as plt\n",
    "from sklearn.cluster import KMeans\n",
    "from sklearn.datasets.samples_generator import make_blobs"
   ]
  },
  {
   "cell_type": "code",
   "execution_count": 32,
   "metadata": {},
   "outputs": [
    {
     "data": {
      "text/html": [
       "<div>\n",
       "<style scoped>\n",
       "    .dataframe tbody tr th:only-of-type {\n",
       "        vertical-align: middle;\n",
       "    }\n",
       "\n",
       "    .dataframe tbody tr th {\n",
       "        vertical-align: top;\n",
       "    }\n",
       "\n",
       "    .dataframe thead th {\n",
       "        text-align: right;\n",
       "    }\n",
       "</style>\n",
       "<table border=\"1\" class=\"dataframe\">\n",
       "  <thead>\n",
       "    <tr style=\"text-align: right;\">\n",
       "      <th></th>\n",
       "      <th>Customer Id</th>\n",
       "      <th>Age</th>\n",
       "      <th>Edu</th>\n",
       "      <th>Years Employed</th>\n",
       "      <th>Income</th>\n",
       "      <th>Card Debt</th>\n",
       "      <th>Other Debt</th>\n",
       "      <th>Defaulted</th>\n",
       "      <th>Address</th>\n",
       "      <th>DebtIncomeRatio</th>\n",
       "    </tr>\n",
       "  </thead>\n",
       "  <tbody>\n",
       "    <tr>\n",
       "      <th>0</th>\n",
       "      <td>1</td>\n",
       "      <td>41</td>\n",
       "      <td>2</td>\n",
       "      <td>6</td>\n",
       "      <td>19</td>\n",
       "      <td>0.124</td>\n",
       "      <td>1.073</td>\n",
       "      <td>0.0</td>\n",
       "      <td>NBA001</td>\n",
       "      <td>6.3</td>\n",
       "    </tr>\n",
       "    <tr>\n",
       "      <th>1</th>\n",
       "      <td>2</td>\n",
       "      <td>47</td>\n",
       "      <td>1</td>\n",
       "      <td>26</td>\n",
       "      <td>100</td>\n",
       "      <td>4.582</td>\n",
       "      <td>8.218</td>\n",
       "      <td>0.0</td>\n",
       "      <td>NBA021</td>\n",
       "      <td>12.8</td>\n",
       "    </tr>\n",
       "    <tr>\n",
       "      <th>2</th>\n",
       "      <td>3</td>\n",
       "      <td>33</td>\n",
       "      <td>2</td>\n",
       "      <td>10</td>\n",
       "      <td>57</td>\n",
       "      <td>6.111</td>\n",
       "      <td>5.802</td>\n",
       "      <td>1.0</td>\n",
       "      <td>NBA013</td>\n",
       "      <td>20.9</td>\n",
       "    </tr>\n",
       "    <tr>\n",
       "      <th>3</th>\n",
       "      <td>4</td>\n",
       "      <td>29</td>\n",
       "      <td>2</td>\n",
       "      <td>4</td>\n",
       "      <td>19</td>\n",
       "      <td>0.681</td>\n",
       "      <td>0.516</td>\n",
       "      <td>0.0</td>\n",
       "      <td>NBA009</td>\n",
       "      <td>6.3</td>\n",
       "    </tr>\n",
       "    <tr>\n",
       "      <th>4</th>\n",
       "      <td>5</td>\n",
       "      <td>47</td>\n",
       "      <td>1</td>\n",
       "      <td>31</td>\n",
       "      <td>253</td>\n",
       "      <td>9.308</td>\n",
       "      <td>8.908</td>\n",
       "      <td>0.0</td>\n",
       "      <td>NBA008</td>\n",
       "      <td>7.2</td>\n",
       "    </tr>\n",
       "  </tbody>\n",
       "</table>\n",
       "</div>"
      ],
      "text/plain": [
       "   Customer Id  Age  Edu  Years Employed  Income  Card Debt  Other Debt  \\\n",
       "0            1   41    2               6      19      0.124       1.073   \n",
       "1            2   47    1              26     100      4.582       8.218   \n",
       "2            3   33    2              10      57      6.111       5.802   \n",
       "3            4   29    2               4      19      0.681       0.516   \n",
       "4            5   47    1              31     253      9.308       8.908   \n",
       "\n",
       "   Defaulted Address  DebtIncomeRatio  \n",
       "0        0.0  NBA001              6.3  \n",
       "1        0.0  NBA021             12.8  \n",
       "2        1.0  NBA013             20.9  \n",
       "3        0.0  NBA009              6.3  \n",
       "4        0.0  NBA008              7.2  "
      ]
     },
     "execution_count": 32,
     "metadata": {},
     "output_type": "execute_result"
    }
   ],
   "source": [
    "df=pd.read_csv(\"Cust_Segmentation.csv\")\n",
    "df.head()"
   ]
  },
  {
   "cell_type": "code",
   "execution_count": 33,
   "metadata": {},
   "outputs": [],
   "source": [
    "df=df.drop(\"Address\",axis=1)\n",
    "df.head()\n",
    "X=df[[\"Age\",\"Income\"]]"
   ]
  },
  {
   "cell_type": "code",
   "execution_count": 34,
   "metadata": {},
   "outputs": [
    {
     "data": {
      "text/plain": [
       "array([[ 0.74291541, -0.71845859],\n",
       "       [ 1.48949049,  1.38432469],\n",
       "       [-0.25251804,  0.26803233],\n",
       "       ...,\n",
       "       [-1.24795149, -0.74441888],\n",
       "       [-0.37694723, -0.484816  ],\n",
       "       [ 2.1116364 ,  0.44975434]])"
      ]
     },
     "execution_count": 34,
     "metadata": {},
     "output_type": "execute_result"
    }
   ],
   "source": [
    "from sklearn import preprocessing\n",
    "X=preprocessing.StandardScaler().fit(X).transform(X.astype(float))\n",
    "X"
   ]
  },
  {
   "cell_type": "code",
   "execution_count": 35,
   "metadata": {},
   "outputs": [
    {
     "data": {
      "text/plain": [
       "KMeans(n_clusters=4, n_init=12)"
      ]
     },
     "execution_count": 35,
     "metadata": {},
     "output_type": "execute_result"
    }
   ],
   "source": [
    "k_means=KMeans(init=\"k-means++\",n_clusters=4,n_init=12)\n",
    "k_means.fit(X)"
   ]
  },
  {
   "cell_type": "code",
   "execution_count": 36,
   "metadata": {},
   "outputs": [
    {
     "data": {
      "text/plain": [
       "array([[ 0.34665632, -0.17704681],\n",
       "       [-0.95608928, -0.47540264],\n",
       "       [ 1.28902126,  4.68560791],\n",
       "       [ 1.30931058,  0.91569093]])"
      ]
     },
     "execution_count": 36,
     "metadata": {},
     "output_type": "execute_result"
    }
   ],
   "source": [
    "k_means_cluster_centers=k_means.cluster_centers_\n",
    "k_means_cluster_centers"
   ]
  },
  {
   "cell_type": "code",
   "execution_count": 27,
   "metadata": {},
   "outputs": [
    {
     "data": {
      "text/plain": [
       "array([0, 3, 0, 2, 1, 3, 0, 3, 2, 3, 3, 0, 2, 0, 2, 2, 2, 0, 3, 0, 2, 0,\n",
       "       2, 3, 3, 3, 2, 0, 0, 0, 3, 0, 2, 0, 2, 0, 0, 0, 2, 3, 2, 3, 2, 1,\n",
       "       0, 3, 2, 2, 2, 2, 3, 0, 2, 3, 2, 0, 2, 2, 0, 3, 0, 0, 0, 3, 2, 2,\n",
       "       0, 2, 0, 2, 2, 3, 0, 2, 2, 2, 0, 0, 3, 3, 0, 2, 3, 0, 3, 2, 2, 2,\n",
       "       2, 2, 0, 0, 2, 2, 0, 3, 0, 0, 2, 2, 2, 3, 0, 0, 2, 3, 0, 2, 0, 3,\n",
       "       0, 2, 2, 2, 2, 0, 2, 0, 0, 0, 2, 2, 0, 0, 2, 3, 0, 2, 2, 2, 0, 0,\n",
       "       2, 2, 2, 0, 3, 2, 0, 0, 0, 2, 2, 2, 0, 2, 0, 0, 2, 2, 0, 0, 0, 0,\n",
       "       0, 0, 3, 3, 2, 2, 2, 0, 0, 2, 2, 0, 2, 2, 2, 3, 3, 2, 2, 2, 2, 3,\n",
       "       0, 2, 2, 3, 0, 0, 2, 3, 0, 2, 0, 0, 0, 3, 2, 0, 0, 0, 3, 0, 2, 3,\n",
       "       1, 0, 3, 0, 2, 0, 0, 3, 0, 1, 3, 2, 2, 0, 0, 3, 0, 2, 0, 2, 0, 3,\n",
       "       2, 3, 2, 2, 2, 2, 3, 2, 0, 3, 0, 0, 2, 2, 3, 2, 0, 2, 0, 2, 2, 0,\n",
       "       2, 2, 0, 1, 3, 0, 0, 2, 2, 2, 0, 0, 3, 2, 0, 2, 2, 2, 0, 2, 0, 2,\n",
       "       3, 3, 2, 0, 0, 0, 0, 2, 0, 0, 0, 2, 2, 0, 2, 2, 2, 3, 3, 2, 3, 0,\n",
       "       0, 2, 3, 0, 2, 0, 2, 0, 2, 2, 2, 2, 2, 3, 3, 0, 2, 2, 2, 0, 0, 2,\n",
       "       0, 0, 2, 2, 0, 2, 0, 2, 0, 2, 0, 0, 3, 0, 3, 2, 2, 0, 2, 2, 3, 0,\n",
       "       0, 3, 2, 0, 0, 3, 2, 3, 0, 3, 0, 0, 0, 0, 3, 0, 2, 2, 2, 0, 3, 2,\n",
       "       0, 2, 2, 0, 3, 0, 2, 2, 1, 0, 2, 2, 3, 2, 3, 3, 3, 0, 2, 2, 3, 3,\n",
       "       2, 0, 2, 0, 2, 2, 0, 2, 2, 0, 3, 0, 3, 2, 0, 0, 0, 0, 0, 2, 2, 2,\n",
       "       2, 3, 0, 0, 2, 2, 2, 2, 2, 3, 0, 3, 0, 0, 2, 0, 2, 0, 2, 0, 0, 0,\n",
       "       0, 0, 0, 0, 2, 0, 3, 0, 0, 3, 0, 2, 0, 0, 2, 2, 3, 0, 0, 2, 3, 0,\n",
       "       0, 0, 0, 1, 0, 2, 0, 0, 3, 0, 3, 0, 2, 0, 1, 0, 2, 0, 2, 3, 0, 1,\n",
       "       2, 0, 2, 0, 3, 2, 2, 3, 3, 0, 0, 3, 3, 2, 0, 0, 2, 2, 2, 0, 0, 2,\n",
       "       0, 2, 0, 3, 2, 2, 2, 3, 0, 3, 0, 2, 2, 0, 0, 2, 2, 2, 3, 3, 2, 2,\n",
       "       0, 0, 3, 2, 2, 2, 0, 3, 0, 0, 2, 2, 2, 0, 3, 2, 2, 2, 3, 0, 2, 0,\n",
       "       2, 0, 2, 2, 1, 3, 2, 2, 2, 0, 0, 0, 3, 0, 2, 3, 0, 3, 0, 0, 3, 2,\n",
       "       3, 1, 2, 1, 2, 0, 1, 0, 2, 2, 0, 0, 2, 0, 2, 0, 3, 2, 0, 2, 2, 1,\n",
       "       0, 2, 0, 2, 2, 2, 2, 3, 0, 2, 0, 0, 0, 0, 2, 0, 2, 0, 2, 3, 3, 0,\n",
       "       2, 2, 2, 2, 3, 0, 0, 0, 2, 0, 2, 0, 0, 2, 2, 2, 2, 2, 2, 2, 2, 2,\n",
       "       0, 2, 2, 2, 3, 2, 0, 0, 2, 0, 2, 2, 3, 3, 3, 0, 3, 3, 3, 2, 0, 3,\n",
       "       2, 3, 0, 2, 1, 2, 3, 0, 3, 2, 0, 2, 2, 2, 3, 3, 2, 2, 0, 0, 3, 2,\n",
       "       2, 2, 0, 3, 2, 0, 0, 2, 2, 0, 3, 3, 1, 2, 2, 3, 2, 0, 2, 2, 0, 2,\n",
       "       2, 3, 2, 0, 2, 3, 0, 2, 2, 0, 0, 3, 2, 2, 2, 0, 2, 2, 0, 0, 2, 2,\n",
       "       2, 0, 0, 0, 3, 0, 3, 0, 2, 3, 0, 2, 0, 3, 0, 3, 2, 0, 0, 0, 2, 3,\n",
       "       0, 0, 2, 0, 3, 0, 2, 0, 3, 0, 0, 0, 0, 0, 0, 3, 2, 2, 0, 3, 3, 0,\n",
       "       2, 2, 0, 2, 2, 2, 2, 0, 2, 2, 3, 2, 3, 0, 2, 0, 2, 2, 0, 0, 0, 3,\n",
       "       2, 2, 2, 0, 0, 3, 0, 0, 3, 0, 2, 0, 0, 0, 3, 2, 0, 0, 0, 0, 0, 1,\n",
       "       0, 2, 2, 0, 2, 2, 2, 2, 2, 3, 2, 0, 2, 0, 0, 2, 3, 2, 2, 2, 0, 2,\n",
       "       2, 0, 0, 2, 0, 0, 0, 2, 0, 2, 0, 3, 3, 0, 0, 0, 0, 2, 0, 2, 2, 2,\n",
       "       2, 2, 2, 2, 0, 2, 2, 2, 0, 2, 2, 2, 2, 3])"
      ]
     },
     "execution_count": 27,
     "metadata": {},
     "output_type": "execute_result"
    }
   ],
   "source": [
    "k_means_labels=k_means.labels_\n",
    "k_means_labels"
   ]
  },
  {
   "cell_type": "code",
   "execution_count": 38,
   "metadata": {},
   "outputs": [
    {
     "data": {
      "image/png": "[encoded data removed]",
      "text/plain": [
       "<Figure size 432x288 with 1 Axes>"
      ]
     },
     "metadata": {
      "needs_background": "light"
     },
     "output_type": "display_data"
    }
   ],
   "source": [
    "fig=plt.figure(figsize=(6,4))\n",
    "ax=fig.add_subplot(1,1,1)\n",
    "colors=plt.cm.Spectral(np.linspace(0,1,len(set(k_means_labels))))\n",
    "for k,col in zip(range(4),colors):\n",
    "    my_members=(k==k_means_labels)\n",
    "    cluster_centers=k_means_cluster_centers[k]\n",
    "    ax.plot(X[my_members,0],X[my_members,1],'w', markerfacecolor=col, marker='.')\n",
    "    \n",
    "    ax.plot(cluster_centers[0],cluster_centers[1],'o',markerfacecolor=col,markeredgecolor='k',marker='.')\n",
    "plt.ylabel(\"Income\")\n",
    "plt.xlabel(\"Age\")\n",
    "    \n",
    "plt.show()    "
   ]
  },
  {
   "cell_type": "code",
   "execution_count": null,
   "metadata": {},
   "outputs": [],
   "source": []
  }
 ],
 "metadata": {
  "kernelspec": {
   "display_name": "Python 3",
   "language": "python",
   "name": "python3"
  },
  "language_info": {
   "codemirror_mode": {
    "name": "ipython",
    "version": 3
   },
   "file_extension": ".py",
   "mimetype": "text/x-python",
   "name": "python",
   "nbconvert_exporter": "python",
   "pygments_lexer": "ipython3",
   "version": "3.8.5"
  }
 },
 "nbformat": 4,
 "nbformat_minor": 4
}
